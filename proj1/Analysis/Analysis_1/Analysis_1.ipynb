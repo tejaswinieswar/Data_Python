{
 "cells": [
  {
   "cell_type": "markdown",
   "metadata": {},
   "source": [
    "# Analysis 1:"
   ]
  },
  {
   "cell_type": "markdown",
   "metadata": {},
   "source": [
    "# Find the ratio of flights delayed to total number of flights every year and sort them in descending order.\n"
   ]
  },
  {
   "cell_type": "code",
   "execution_count": 1,
   "metadata": {
    "collapsed": false
   },
   "outputs": [
    {
     "name": "stderr",
     "output_type": "stream",
     "text": [
      "/Users/Sneha/anaconda/lib/python3.5/site-packages/matplotlib/font_manager.py:273: UserWarning: Matplotlib is building the font cache using fc-list. This may take a moment.\n",
      "  warnings.warn('Matplotlib is building the font cache using fc-list. This may take a moment.')\n",
      "/Users/Sneha/anaconda/lib/python3.5/site-packages/matplotlib/font_manager.py:273: UserWarning: Matplotlib is building the font cache using fc-list. This may take a moment.\n",
      "  warnings.warn('Matplotlib is building the font cache using fc-list. This may take a moment.')\n",
      "/Users/Sneha/anaconda/lib/python3.5/site-packages/IPython/core/interactiveshell.py:2717: DtypeWarning: Columns (10,22) have mixed types. Specify dtype option on import or set low_memory=False.\n",
      "  interactivity=interactivity, compiler=compiler, result=result)\n",
      "/Users/Sneha/anaconda/lib/python3.5/site-packages/ipykernel/__main__.py:35: SettingWithCopyWarning: \n",
      "A value is trying to be set on a copy of a slice from a DataFrame.\n",
      "Try using .loc[row_indexer,col_indexer] = value instead\n",
      "\n",
      "See the caveats in the documentation: http://pandas.pydata.org/pandas-docs/stable/indexing.html#indexing-view-versus-copy\n",
      "/Users/Sneha/anaconda/lib/python3.5/site-packages/ipykernel/__main__.py:36: SettingWithCopyWarning: \n",
      "A value is trying to be set on a copy of a slice from a DataFrame.\n",
      "Try using .loc[row_indexer,col_indexer] = value instead\n",
      "\n",
      "See the caveats in the documentation: http://pandas.pydata.org/pandas-docs/stable/indexing.html#indexing-view-versus-copy\n",
      "/Users/Sneha/anaconda/lib/python3.5/site-packages/ipykernel/__main__.py:54: SettingWithCopyWarning: \n",
      "A value is trying to be set on a copy of a slice from a DataFrame.\n",
      "Try using .loc[row_indexer,col_indexer] = value instead\n",
      "\n",
      "See the caveats in the documentation: http://pandas.pydata.org/pandas-docs/stable/indexing.html#indexing-view-versus-copy\n",
      "/Users/Sneha/anaconda/lib/python3.5/site-packages/ipykernel/__main__.py:62: SettingWithCopyWarning: \n",
      "A value is trying to be set on a copy of a slice from a DataFrame.\n",
      "Try using .loc[row_indexer,col_indexer] = value instead\n",
      "\n",
      "See the caveats in the documentation: http://pandas.pydata.org/pandas-docs/stable/indexing.html#indexing-view-versus-copy\n",
      "/Users/Sneha/anaconda/lib/python3.5/site-packages/ipykernel/__main__.py:88: FutureWarning: sort(columns=....) is deprecated, use sort_values(by=.....)\n"
     ]
    },
    {
     "name": "stdout",
     "output_type": "stream",
     "text": [
      "    Year Not_delayed Delayed_flights    Ratio\n",
      "16  1995       50351           49649  0.49649\n",
      "18  1996       51031           48969  0.48969\n",
      "14  1994       54196           45804  0.45804\n",
      "12  1993       55147           44853  0.44853\n",
      "10  1992       55464           44536  0.44536\n"
     ]
    },
    {
     "data": {
      "image/png": "[encoded data removed]",
      "text/plain": [
       "<matplotlib.figure.Figure at 0x12d0cab70>"
      ]
     },
     "metadata": {},
     "output_type": "display_data"
    }
   ],
   "source": [
    "\n",
    "import pandas as pd\n",
    "import matplotlib.pyplot as plt\n",
    "from itertools import cycle, islice\n",
    "\n",
    "#Reading the CSV file from the disk\n",
    "loc= '/Users/Sneha/Downloads/Final_dataset.csv'\n",
    "data = pd.read_csv(loc)\n",
    "\n",
    "#Filling the NAN with 0 for DepTime and ArrTime columns\n",
    "data['DepTime'].fillna(0,inplace=True)\n",
    "data['ArrTime'].fillna(0,inplace=True)\n",
    "\n",
    "#Convert the columns to int\n",
    "data.DepTime=data.DepTime.astype(int)\n",
    "data.ArrTime=data.DepTime.astype(int)\n",
    "\n",
    "#Picking the required columns\n",
    "req_data=data[['Year','DepTime','CRSDepTime']]\n",
    "\n",
    "#Function to split the time column to hours and minutes\n",
    "def split_time(v):\n",
    "    #Converting the time to string to perfomr split\n",
    "    v=str(v)\n",
    "    if v=='0':\n",
    "        return 0,0\n",
    "    if len(v)<4:\n",
    "        #Fill 0 whe lenght is not equal to 4\n",
    "        v=v.zfill(4)\n",
    "    v1=v[0:2]\n",
    "    v2=v[2:4]\n",
    "    return int(v1),int(v2)\n",
    "\n",
    "#Calling the function to split the time\n",
    "req_data[\"Act_Dep1\"],req_data[\"Act_Dep2\"]=zip(*req_data[\"DepTime\"].map(split_time))\n",
    "req_data[\"Sc_Dep1\"],req_data[\"Sc_Dep2\"]=zip(*req_data[\"CRSDepTime\"].map(split_time))\n",
    "\n",
    "#Function to calculate the delay\n",
    "def delay_cal(y):\n",
    "    #If the hour is same then just calculate the difference\n",
    "    if(y[3]==y[5]):\n",
    "        return y[4]-y[6]\n",
    "    else:\n",
    "        #If greater then calculate delay based on hours passed\n",
    "        if(y[3] > y[5]):\n",
    "            num= (y[3] - y[5])\n",
    "            y[6]=60*num-y[6]\n",
    "            return(y[4]+y[6])\n",
    "        else:\n",
    "            #If no delay then return -1\n",
    "            return -1\n",
    "\n",
    "#Applying the delay function to all the rows\n",
    "req_data['delay']=req_data.apply(delay_cal,axis=1)\n",
    "#Function to check if delayed or not\n",
    "def delayed(x):\n",
    "    if(x[7]>0):\n",
    "        return 1\n",
    "    else:\n",
    "        return 0\n",
    "\n",
    "req_data['Delayed_flag']=req_data.apply(delayed,axis=1)\n",
    "#Groupby based on Year and delayed flag\n",
    "req_data=req_data.groupby(['Year','Delayed_flag']).size().reset_index(name='Count')\n",
    "\n",
    "\n",
    "#Create new dataframe to transpose the values\n",
    "col=['Year','Not_delayed','Delayed_flights']\n",
    "df=pd.DataFrame(columns=col)\n",
    "\n",
    "#Enter the year into the dataframe\n",
    "def trans(a):\n",
    "    #print(a[0])\n",
    "    df.loc[len(df)]=[a[0],'0','0']\n",
    "\n",
    "#Add the valued to the transposed dataframe\n",
    "def add_val(s):\n",
    "    if s[1]==0:\n",
    "        df.loc[df.Year==s[0],'Not_delayed']=s[2]\n",
    "    if s[1]==1:\n",
    "        df.loc[df.Year==s[0],'Delayed_flights']=s[2]\n",
    "\n",
    "req_data.apply(trans,axis=1)\n",
    "df.drop_duplicates('Year', inplace=True)\n",
    "req_data.apply(add_val,axis=1)\n",
    "#Find the ratio of Delayed to total number of flights\n",
    "df['Ratio']=df['Delayed_flights'] /(df['Not_delayed']+df['Delayed_flights'])\n",
    "final= df.sort(['Ratio'], ascending=[False])\n",
    "\n",
    "final['Year'].fillna(0,inplace=True)\n",
    "final.Year=final.Year.astype(int)\n",
    "\n",
    "print(final.head())\n",
    "#Writing to csv\n",
    "final.to_csv(\"output_Analysis_1.csv\",index = False)\n",
    "\n",
    "#Bar plot for the analysis\n",
    "fig,ax = plt.subplots()\n",
    "my_colors = list(islice(cycle(['b', 'r', 'g', 'y', 'k']),  len(final))) #Specifying the colours\n",
    "ax.bar(final.index, final.Ratio, align='center', width=0.6, color=my_colors)\n",
    "ax.set_xticks(final.index+0.01)\n",
    "ax.set_xticklabels(final.Year)\n",
    "\n",
    "#To save the image\n",
    "plt.savefig('/Users/Sneha/Downloads/Plot_Analysis_1.png')\n",
    "#Plotting title\n",
    "plt.xlabel('Year')\n",
    "plt.ylabel('Ratio')\n",
    "plt.title('Ratio of flights delayed every year')\n",
    "\n",
    "plt.show()"
   ]
  },
  {
   "cell_type": "code",
   "execution_count": null,
   "metadata": {
    "collapsed": true
   },
   "outputs": [],
   "source": []
  }
 ],
 "metadata": {
  "kernelspec": {
   "display_name": "Python [conda root]",
   "language": "python",
   "name": "conda-root-py"
  },
  "language_info": {
   "codemirror_mode": {
    "name": "ipython",
    "version": 3
   },
   "file_extension": ".py",
   "mimetype": "text/x-python",
   "name": "python",
   "nbconvert_exporter": "python",
   "pygments_lexer": "ipython3",
   "version": "3.5.2"
  }
 },
 "nbformat": 4,
 "nbformat_minor": 1
}
