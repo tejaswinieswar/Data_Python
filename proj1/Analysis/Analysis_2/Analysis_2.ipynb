{
 "cells": [
  {
   "cell_type": "markdown",
   "metadata": {},
   "source": [
    "# Analysis 2:"
   ]
  },
  {
   "cell_type": "markdown",
   "metadata": {},
   "source": [
    "# Determining the best month of travel for a pair of Origin and Destination based on weather delay"
   ]
  },
  {
   "cell_type": "code",
   "execution_count": 5,
   "metadata": {
    "collapsed": false
   },
   "outputs": [],
   "source": [
    "import pandas as pd\n",
    "import matplotlib.pyplot as plt\n",
    "import numpy as np"
   ]
  },
  {
   "cell_type": "code",
   "execution_count": 6,
   "metadata": {
    "collapsed": false
   },
   "outputs": [
    {
     "name": "stderr",
     "output_type": "stream",
     "text": [
      "/Users/Sneha/anaconda/lib/python3.5/site-packages/IPython/core/interactiveshell.py:2717: DtypeWarning: Columns (10,22) have mixed types. Specify dtype option on import or set low_memory=False.\n",
      "  interactivity=interactivity, compiler=compiler, result=result)\n"
     ]
    }
   ],
   "source": [
    "#Reading the CSV file from the disk\n",
    "loc='/Users/Sneha/Downloads/Final_dataset.csv'\n",
    "loc1='/Users/Sneha/Downloads/airports.csv'\n",
    "air_data=pd.read_csv(loc1)\n",
    "data= pd.read_csv(loc)\n",
    "#Filling the NAN with 0 for DepTime and ArrTime columns\n",
    "data['DepTime'].fillna(0,inplace=True)\n",
    "data['ArrTime'].fillna(0,inplace=True)\n",
    "##Convert the columns to int\n",
    "data.DepTime=data.DepTime.astype(int)\n",
    "data.ArrTime=data.ArrTime.astype(int)"
   ]
  },
  {
   "cell_type": "code",
   "execution_count": 7,
   "metadata": {
    "collapsed": false
   },
   "outputs": [
    {
     "name": "stderr",
     "output_type": "stream",
     "text": [
      "/Users/Sneha/anaconda/lib/python3.5/site-packages/ipykernel/__main__.py:30: FutureWarning: sort(columns=....) is deprecated, use sort_values(by=.....)\n"
     ]
    }
   ],
   "source": [
    "#Picking the required columns\n",
    "data=data[['Month','CarrierDelay','WeatherDelay','NASDelay','SecurityDelay','LateAircraftDelay','Origin','Dest']]\n",
    "#Finding sum of all delays\n",
    "data['Sum_of_delays']=data[['CarrierDelay','WeatherDelay','NASDelay','SecurityDelay','LateAircraftDelay']].sum(axis=1)\n",
    "data = data[['Month','Sum_of_delays','WeatherDelay','Origin','Dest']]\n",
    "#Ratio of weather delay to total delay\n",
    "data['weather_delay_ratio']=data['WeatherDelay']/data['Sum_of_delays']\n",
    "data1= data.groupby(['Month','Origin','Dest']).mean().reset_index()\n",
    "#Merging other csv file to fetch airport data\n",
    "m= pd.merge(data1,air_data,left_on='Origin',right_on='iata')\n",
    "m= pd.merge(m,air_data,left_on='Dest',right_on='iata')\n",
    "m= m[['Month','Origin','city_x','Dest','city_y','Sum_of_delays','WeatherDelay','weather_delay_ratio']]\n",
    "m= m.rename(columns={'city_x':'Origin_city_name','city_y':'Dest_city_name'})\n",
    "#Get distinct copy of origin and destination\n",
    "dist_or_de=m[['Origin','Dest']].drop_duplicates()\n",
    "flag=0\n",
    "#New dataframe and put the output columns\n",
    "col=['index','Month','Origin','Origin_city_name','Dest','Dest_city_name','Sum_of_delays','WeatherDelay','weather_delay_ratio']\n",
    "\n",
    "temp1=pd.DataFrame()\n",
    "sep=pd.DataFrame(columns=col)\n",
    "sep.loc[0]=['','Next_Origin_Dest_Combination','','','','','','','']\n",
    "#Function to sort for a pair of origin and destination\n",
    "def sorter(v):\n",
    "    global temp1\n",
    "    global flag\n",
    "    # Selecting specific pair of destinations\n",
    "    temp=m[(m.Origin==v[0])&(m.Dest==v[1])]\n",
    "    # Sorting based on weather delay ratio\n",
    "    temp=temp.sort(['weather_delay_ratio'], ascending=[False]).reset_index()\n",
    "    if flag==0:\n",
    "        temp1=temp\n",
    "    else:\n",
    "        x=[temp1,temp]\n",
    "        temp1=pd.concat(x)\n",
    "    flag=1\n",
    "dist_or_de.apply(sorter,axis=1)\n",
    "#Write to CSV file\n",
    "m=m[['Month','Origin','Origin_city_name','Dest','Dest_city_name','Sum_of_delays','WeatherDelay','weather_delay_ratio']]\n",
    "#Writing to csv file\n",
    "m.to_csv(\"output_Analysis_2.csv\",index = False)\n"
   ]
  },
  {
   "cell_type": "code",
   "execution_count": 8,
   "metadata": {
    "collapsed": false
   },
   "outputs": [
    {
     "name": "stdout",
     "output_type": "stream",
     "text": [
      "    Month Origin Origin_city_name Dest Dest_city_name  Sum_of_delays  \\\n",
      "68      1    ALB           Albany  ATL        Atlanta       7.457143   \n",
      "69      2    ALB           Albany  ATL        Atlanta       3.375000   \n",
      "70      3    ALB           Albany  ATL        Atlanta       7.806452   \n",
      "71      4    ALB           Albany  ATL        Atlanta       4.536585   \n",
      "72      5    ALB           Albany  ATL        Atlanta       8.206897   \n",
      "\n",
      "    WeatherDelay  weather_delay_ratio  \n",
      "68      0.000000             0.000000  \n",
      "69      3.090909             0.246377  \n",
      "70      0.000000             0.000000  \n",
      "71      0.000000             0.000000  \n",
      "72      0.000000             0.000000  \n"
     ]
    },
    {
     "data": {
      "image/png": "[encoded data removed]",
      "text/plain": [
       "<matplotlib.figure.Figure at 0x10eff1320>"
      ]
     },
     "metadata": {},
     "output_type": "display_data"
    }
   ],
   "source": [
    "zz=m[m['Origin']=='ALB']\n",
    "zz1=zz[zz['Dest']=='ATL']\n",
    "print(zz1.head())\n",
    "\n",
    "\n",
    "# data to plot\n",
    "\n",
    "n_groups = 12\n",
    "\n",
    "# create plot\n",
    "fig, ax = plt.subplots()\n",
    "index = np.arange(n_groups)\n",
    "bar_width = 0.35\n",
    "opacity = 0.8\n",
    "\n",
    "rects1 = plt.bar(index, zz1['WeatherDelay'], bar_width, alpha=opacity, color='b', label='Weather Delay')\n",
    "\n",
    "rects2 = plt.bar(index + bar_width, zz1['Sum_of_delays'], bar_width, alpha=opacity, color='g', label='Sum of delays')\n",
    "\n",
    "plt.xlabel('Months')\n",
    "plt.ylabel('Weather_Delay : Total_Delay')\n",
    "plt.title('Albany to Atlanta')\n",
    "plt.xticks(index + bar_width, ('Jan', 'Feb', 'Mar', 'Apr','May','June','July','Aug','Sept','Oct','Nov','Dec'))\n",
    "plt.legend()\n",
    "plt.savefig('/Users/Sneha/Downloads/Plot_Analysis_2.png')\n",
    "plt.tight_layout()\n",
    "plt.show()\n"
   ]
  }
 ],
 "metadata": {
  "anaconda-cloud": {},
  "kernelspec": {
   "display_name": "Python [conda root]",
   "language": "python",
   "name": "conda-root-py"
  },
  "language_info": {
   "codemirror_mode": {
    "name": "ipython",
    "version": 3
   },
   "file_extension": ".py",
   "mimetype": "text/x-python",
   "name": "python",
   "nbconvert_exporter": "python",
   "pygments_lexer": "ipython3",
   "version": "3.5.2"
  }
 },
 "nbformat": 4,
 "nbformat_minor": 1
}
