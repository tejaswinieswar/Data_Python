{
 "cells": [
  {
   "cell_type": "markdown",
   "metadata": {},
   "source": [
    "# Analysis "
   ]
  },
  {
   "cell_type": "markdown",
   "metadata": {},
   "source": [
    "# To find the percentage of cancellation of flights for every carrier"
   ]
  },
  {
   "cell_type": "code",
   "execution_count": 2,
   "metadata": {
    "collapsed": false
   },
   "outputs": [
    {
     "name": "stderr",
     "output_type": "stream",
     "text": [
      "/Users/Sneha/anaconda/lib/python3.5/site-packages/IPython/core/interactiveshell.py:2717: DtypeWarning: Columns (10,22) have mixed types. Specify dtype option on import or set low_memory=False.\n",
      "  interactivity=interactivity, compiler=compiler, result=result)\n",
      "/Users/Sneha/anaconda/lib/python3.5/site-packages/ipykernel/__main__.py:32: FutureWarning: sort(columns=....) is deprecated, use sort_values(by=.....)\n"
     ]
    },
    {
     "data": {
      "image/png": "[encoded data removed]",
      "text/plain": [
       "<matplotlib.figure.Figure at 0x12d22e518>"
      ]
     },
     "metadata": {},
     "output_type": "display_data"
    }
   ],
   "source": [
    "\n",
    "import pandas as pd\n",
    "import matplotlib.pyplot as plt\n",
    "from itertools import cycle, islice\n",
    "\n",
    "\n",
    "##Reading the CSV file from the disk\n",
    "loc='/Users/Sneha/Downloads/Final_dataset.csv'\n",
    "data= pd.read_csv(loc)\n",
    "\n",
    "#Filling the NAN with 0 for DepTime and ArrTime columns\n",
    "data['DepTime'].fillna(0,inplace=True)\n",
    "data['ArrTime'].fillna(0,inplace=True)\n",
    "\n",
    "#Convert the columns to int\n",
    "data.DepTime=data.DepTime.astype(int)\n",
    "data.ArrTime=data.ArrTime.astype(int)\n",
    "req_data= data[['UniqueCarrier','FlightNum','Cancelled','CancellationCode']]\n",
    "\n",
    "#Groupby based on carrier\n",
    "r1=req_data.groupby(['UniqueCarrier']).size().reset_index(name='Count')\n",
    "r2=req_data[req_data['Cancelled']==1]\n",
    "r2=r2.groupby(['UniqueCarrier','Cancelled']).size().reset_index(name='Count1')\n",
    "#print (r1.head())\n",
    "#print (r2.head())\n",
    "\n",
    "#Concatenate dataframes\n",
    "r_new = pd.concat([r1, r2], axis=1)\n",
    "\n",
    "#Percentage of calculation\n",
    "r_new['Percentage_of_cancellation']=(r_new['Count1']/r_new['Count'])*100\n",
    "final= r_new.sort(['Percentage_of_cancellation'])\n",
    "final.rename(columns={'Count': 'Total number of flights', 'Count1': 'Number of flights cancelled'}, inplace=True)\n",
    "final=final[['UniqueCarrier','Total number of flights','Number of flights cancelled','Percentage_of_cancellation']]\n",
    "#print(final)\n",
    "\n",
    "#Writing to csv file\n",
    "final.to_csv(\"output_Analysis_5.csv\",index = False)\n",
    "\n",
    "a=final['Percentage_of_cancellation'].tolist()\n",
    "\n",
    "\n",
    "\n",
    "#Bar plot for the analysis\n",
    "\n",
    "\n",
    "plt.plot([1,2,3,4,5,6,7,8,9,10,11,12,13,14,15,16,17,18,19,20,21,22,23,24,25,26,27,28,29], a, 'bo')\n",
    "plt.axis([0, 12, 0, 2])\n",
    "plt.xlabel(\"Airport\")\n",
    "plt.ylabel(\"Percentage_of_cancellation\")\n",
    "\n",
    "plt.title('Percentage of Cancellation of flights for every carrier ')\n",
    "plt.savefig('/Users/Sneha/Downloads/Plot_Analysis_5.png')\n",
    "plt.show()\n"
   ]
  },
  {
   "cell_type": "code",
   "execution_count": null,
   "metadata": {
    "collapsed": true
   },
   "outputs": [],
   "source": []
  },
  {
   "cell_type": "code",
   "execution_count": null,
   "metadata": {
    "collapsed": true
   },
   "outputs": [],
   "source": []
  }
 ],
 "metadata": {
  "anaconda-cloud": {},
  "kernelspec": {
   "display_name": "Python [conda root]",
   "language": "python",
   "name": "conda-root-py"
  },
  "language_info": {
   "codemirror_mode": {
    "name": "ipython",
    "version": 3
   },
   "file_extension": ".py",
   "mimetype": "text/x-python",
   "name": "python",
   "nbconvert_exporter": "python",
   "pygments_lexer": "ipython3",
   "version": "3.5.2"
  }
 },
 "nbformat": 4,
 "nbformat_minor": 1
}
