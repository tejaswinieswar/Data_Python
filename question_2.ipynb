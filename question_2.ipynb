{
 "cells": [
  {
   "cell_type": "markdown",
   "metadata": {},
   "source": [
    "# Question 2"
   ]
  },
  {
   "cell_type": "code",
   "execution_count": 12,
   "metadata": {
    "collapsed": false
   },
   "outputs": [
    {
     "name": "stdout",
     "output_type": "stream",
     "text": [
      "['e', 't', 'a', 'o', 'n', 'i', 's', 'h', 'r', 'l', 'd', 'u', 'm', 'c', 'w', 'f', 'g', 'p', 'b', 'y', 'v', 'k', 'q', 'j', 'x', 'z']\n"
     ]
    }
   ],
   "source": [
    "import nltk\n",
    "from nltk.corpus import gutenberg\n",
    "raw_data = nltk.corpus.gutenberg.raw('melville-moby_dick.txt') #To find the number of words in gutenberg\n",
    "raw_lower=raw_data.lower()#converting all the raw_data to lower case\n",
    "#type(raw_lower)\n",
    "final_data=\"\"\n",
    "for character in raw_lower:\n",
    "        if character.isalpha():\n",
    "            final_data=final_data+character\n",
    "#print (final_data)\n",
    "x=set(final_data)\n",
    "#print(x)\n",
    "a={}\n",
    "for i in x:\n",
    "    c=raw_lower.count(i)\n",
    "    a.update({i:c})\n",
    "    #sorted(a)\n",
    "sa=sorted(a, key=a.__getitem__,reverse=True)\n",
    "\n",
    "print(sa)\n",
    "\n"
   ]
  },
  {
   "cell_type": "code",
   "execution_count": null,
   "metadata": {
    "collapsed": true
   },
   "outputs": [],
   "source": []
  },
  {
   "cell_type": "code",
   "execution_count": null,
   "metadata": {
    "collapsed": true
   },
   "outputs": [],
   "source": []
  }
 ],
 "metadata": {
  "anaconda-cloud": {},
  "kernelspec": {
   "display_name": "Python [conda root]",
   "language": "python",
   "name": "conda-root-py"
  },
  "language_info": {
   "codemirror_mode": {
    "name": "ipython",
    "version": 3
   },
   "file_extension": ".py",
   "mimetype": "text/x-python",
   "name": "python",
   "nbconvert_exporter": "python",
   "pygments_lexer": "ipython3",
   "version": "3.5.2"
  }
 },
 "nbformat": 4,
 "nbformat_minor": 1
}
