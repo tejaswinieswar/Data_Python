{
 "cells": [
  {
   "cell_type": "markdown",
   "metadata": {},
   "source": [
    "# Question 7:\n",
    "Using Name corpus, calculate the probability of a name being of a male or female base on the last character(s) of name."
   ]
  },
  {
   "cell_type": "code",
   "execution_count": 5,
   "metadata": {
    "collapsed": true
   },
   "outputs": [],
   "source": [
    "import nltk\n",
    "from nltk.corpus import names#importing names modeule from nltk.corpus"
   ]
  },
  {
   "cell_type": "code",
   "execution_count": 6,
   "metadata": {
    "collapsed": false
   },
   "outputs": [
    {
     "data": {
      "text/plain": [
       "['female.txt', 'male.txt']"
      ]
     },
     "execution_count": 6,
     "metadata": {},
     "output_type": "execute_result"
    }
   ],
   "source": [
    "names.fileids()#to get the text files in names module\n"
   ]
  },
  {
   "cell_type": "code",
   "execution_count": 7,
   "metadata": {
    "collapsed": false
   },
   "outputs": [],
   "source": [
    "nF = nltk.corpus.names.words('female.txt')# get all the names in female.txt file\n",
    "nM = nltk.corpus.names.words('male.txt')# get all the words in male.txt file\n",
    "\n",
    "alphabets= ['a', 'b','c','d','e','f','g','h','i','j','k','l','m','n','o','p','q','r','s','t','u','v','w','x','y','z']"
   ]
  },
  {
   "cell_type": "code",
   "execution_count": 8,
   "metadata": {
    "collapsed": false
   },
   "outputs": [
    {
     "name": "stdout",
     "output_type": "stream",
     "text": [
      "The probability male and female name ending with [ a ] male:  1.609322974472808 %, female:  98.3906770255272 %\n",
      "The probability male and female name ending with [ b ] male:  70.0 %, female:  30.0 %\n",
      "The probability male and female name ending with [ c ] male:  100.0 %, female:  0.0 %\n",
      "The probability male and female name ending with [ d ] male:  85.39325842696628 %, female:  14.606741573033707 %\n",
      "The probability male and female name ending with [ e ] male:  24.63157894736842 %, female:  75.36842105263158 %\n",
      "The probability male and female name ending with [ f ] male:  92.5925925925926 %, female:  7.4074074074074066 %\n",
      "The probability male and female name ending with [ g ] male:  76.19047619047619 %, female:  23.809523809523807 %\n",
      "The probability male and female name ending with [ h ] male:  46.96969696969697 %, female:  53.03030303030303 %\n",
      "The probability male and female name ending with [ i ] male:  13.623978201634879 %, female:  86.37602179836512 %\n",
      "The probability male and female name ending with [ j ] male:  75.0 %, female:  25.0 %\n",
      "The probability male and female name ending with [ k ] male:  95.83333333333334 %, female:  4.166666666666666 %\n",
      "The probability male and female name ending with [ l ] male:  51.09289617486339 %, female:  48.90710382513661 %\n",
      "The probability male and female name ending with [ m ] male:  84.33734939759037 %, female:  15.66265060240964 %\n",
      "The probability male and female name ending with [ n ] male:  55.32407407407407 %, female:  44.675925925925924 %\n",
      "The probability male and female name ending with [ o ] male:  83.33333333333334 %, female:  16.666666666666664 %\n",
      "The probability male and female name ending with [ p ] male:  90.0 %, female:  10.0 %\n",
      "The probability male and female name ending with [ q ] male:  0 %, female:  0 %\n",
      "The probability male and female name ending with [ r ] male:  80.16877637130801 %, female:  19.831223628691983 %\n",
      "The probability male and female name ending with [ s ] male:  71.20743034055728 %, female:  28.792569659442723 %\n",
      "The probability male and female name ending with [ t ] male:  70.6896551724138 %, female:  29.310344827586203 %\n",
      "The probability male and female name ending with [ u ] male:  66.66666666666666 %, female:  33.33333333333333 %\n",
      "The probability male and female name ending with [ v ] male:  88.88888888888889 %, female:  11.11111111111111 %\n",
      "The probability male and female name ending with [ w ] male:  77.27272727272727 %, female:  22.727272727272727 %\n",
      "The probability male and female name ending with [ x ] male:  50.0 %, female:  50.0 %\n",
      "The probability male and female name ending with [ y ] male:  41.86633039092055 %, female:  58.13366960907944 %\n",
      "The probability male and female name ending with [ z ] male:  73.33333333333333 %, female:  26.666666666666668 %\n"
     ]
    }
   ],
   "source": [
    "for i in alphabets:#for loop to iterate through the alphabet list\n",
    "    c_F=0#intializing count for females\n",
    "    c_M=0#initializing count for males\n",
    "    for j in nF:#to loop through female list\n",
    "        if j.endswith(i):\n",
    "            c_F+=1\n",
    "    for j in nM:#to loop through male list\n",
    "        if j.endswith(i):\n",
    "            c_M+=1\n",
    "            \n",
    "    if ((c_F+c_M)!=0):#Check if a name doesn't end with a partciluar letter\n",
    "        p_F=100*(c_F/(c_F+c_M))\n",
    "        p_M=100*(c_M/(c_F+c_M))\n",
    "    else:\n",
    "        p_M,p_F=0,0\n",
    "    print (\"The probability male and female name ending with [\",i,\"] male: \", p_M,\"%, female: \",p_F,\"%\")"
   ]
  },
  {
   "cell_type": "code",
   "execution_count": null,
   "metadata": {
    "collapsed": false
   },
   "outputs": [],
   "source": [
    " "
   ]
  },
  {
   "cell_type": "code",
   "execution_count": null,
   "metadata": {
    "collapsed": true
   },
   "outputs": [],
   "source": []
  }
 ],
 "metadata": {
  "anaconda-cloud": {},
  "kernelspec": {
   "display_name": "Python [conda root]",
   "language": "python",
   "name": "conda-root-py"
  },
  "language_info": {
   "codemirror_mode": {
    "name": "ipython",
    "version": 3
   },
   "file_extension": ".py",
   "mimetype": "text/x-python",
   "name": "python",
   "nbconvert_exporter": "python",
   "pygments_lexer": "ipython3",
   "version": "3.5.2"
  }
 },
 "nbformat": 4,
 "nbformat_minor": 1
}
