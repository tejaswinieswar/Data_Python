{
 "cells": [
  {
   "cell_type": "markdown",
   "metadata": {},
   "source": [
    "# Question 5:\n",
    "Use Gutenberg and Web_text data. Find out what are the top 5 words that Shakespeare used but we do not use in currently.\n",
    "Take top 50 words from Shakespeare (all 3 books) and top 50 from Web_text (all the records).\n",
    "Remove punctuation and stop words.\n",
    "Remove the words we still use today, and get the unused list. Show the top 5 elements. "
   ]
  },
  {
   "cell_type": "code",
   "execution_count": 70,
   "metadata": {
    "collapsed": false
   },
   "outputs": [
    {
     "name": "stdout",
     "output_type": "stream",
     "text": [
      "['austen-emma.txt', 'austen-persuasion.txt', 'austen-sense.txt', 'bible-kjv.txt', 'blake-poems.txt', 'bryant-stories.txt', 'burgess-busterbrown.txt', 'carroll-alice.txt', 'chesterton-ball.txt', 'chesterton-brown.txt', 'chesterton-thursday.txt', 'edgeworth-parents.txt', 'melville-moby_dick.txt', 'milton-paradise.txt', 'shakespeare-caesar.txt', 'shakespeare-hamlet.txt', 'shakespeare-macbeth.txt', 'whitman-leaves.txt']\n",
      "['firefox.txt', 'grail.txt', 'overheard.txt', 'pirates.txt', 'singles.txt', 'wine.txt']\n"
     ]
    }
   ],
   "source": [
    "import nltk\n",
    "from nltk.corpus import words,stopwords,gutenberg,webtext\n",
    "from nltk import FreqDist\n",
    "a=gutenberg.fileids()\n",
    "from nltk.corpus import webtext\n",
    "b=webtext.fileids()\n",
    "print(a)\n",
    "print(b)\n",
    "stop_set=stopwords.words('english')\n"
   ]
  },
  {
   "cell_type": "code",
   "execution_count": 71,
   "metadata": {
    "collapsed": false
   },
   "outputs": [
    {
     "name": "stdout",
     "output_type": "stream",
     "text": [
      "The topmost words in Shakespeare books:\n",
      " [('haue', 448), ('ham', 337), ('thou', 312), ('shall', 300), ('lord', 293), ('come', 232), ('king', 231), ('enter', 230), ('good', 218), ('let', 217), ('thy', 202), ('caesar', 193), ('vs', 184), ('know', 176), ('thee', 174), ('would', 170), ('like', 162), ('brutus', 162), ('vpon', 162), ('bru', 153), ('well', 152), ('hath', 144), ('selfe', 143), ('man', 139), ('may', 138), ('macb', 137), ('yet', 136), ('heere', 135), ('must', 130), ('say', 130), ('tis', 129), ('th', 125), ('loue', 119), ('speake', 119), ('make', 119), ('giue', 118), ('see', 116), ('time', 115), ('night', 114), ('sir', 114), ('one', 112), ('st', 110), ('cassi', 107), ('ile', 106), ('doe', 103), ('hamlet', 100), ('go', 100), ('men', 96), ('hor', 95), ('vp', 94)]\n"
     ]
    }
   ],
   "source": [
    "o1=[]\n",
    "o=[]\n",
    "#nltk.corpus.gutenberg.words('shakespeare-caesar.txt')+nltk.corpus.gutenberg.words('shakespeare-hamlet.txt')+nltk.corpus.gutenberg.words('shakespeare-macbeth.txt')\n",
    "for i in a:\n",
    "    if i.startswith('shakespeare'):\n",
    "        o.extend(nltk.corpus.gutenberg.words(i))\n",
    "for i in o:\n",
    "    if i.lower() not in stop_set:\n",
    "        o1.append(i)\n",
    "o1=str(o1)\n",
    "p=o1.lower()     #Converting all the data from three shahespeare books to lower case\n",
    "j=''.join(m for m in p if (m.isalpha() or m==\" \") )    #Removing numbers and punctuations\n",
    "fd=FreqDist(j.split())   #Calculating frequency distribution of words \n",
    "s=fd.most_common(50)   #Picking the topmost 100 repeated words\n",
    "sh_words=[]\n",
    "for i in s:\n",
    "    word,freq= i\n",
    "    sh_words.append(word)\n",
    "print (\"The topmost words in Shakespeare books:\\n\",s)"
   ]
  },
  {
   "cell_type": "code",
   "execution_count": 72,
   "metadata": {
    "collapsed": false
   },
   "outputs": [
    {
     "name": "stdout",
     "output_type": "stream",
     "text": [
      "The topmost words in Web_text files:\n",
      " [('like', 1607), ('girl', 1263), ('dont', 1219), ('im', 1144), ('guy', 1123), ('know', 926), ('get', 840), ('yeah', 739), ('new', 701), ('oh', 620), ('doesnt', 615), ('good', 602), ('page', 599), ('one', 592), ('cell', 576), ('man', 576), ('well', 554), ('go', 523), ('open', 518), ('thats', 515), ('youre', 486), ('think', 469), ('want', 469), ('window', 453), ('really', 434), ('boy', 431), ('going', 431), ('cant', 406), ('got', 404), ('bar', 401), ('lady', 386), ('toolbar', 379), ('right', 374), ('bookmarks', 371), ('bookmark', 370), ('would', 370), ('menu', 363), ('firefox', 355), ('work', 353), ('see', 352), ('woman', 349), ('time', 349), ('back', 343), ('look', 325), ('tab', 324), ('quite', 321), ('people', 312), ('button', 302), ('manager', 300), ('fruit', 298)]\n"
     ]
    }
   ],
   "source": [
    "r=''\n",
    "for i in b:#Looping to get all the data of webtext\n",
    "    h=nltk.corpus.webtext.raw(i)\n",
    "    r=r+h\n",
    "r=r.lower()\n",
    "k1=[]\n",
    "k=''.join(m for m in r if (m.isalpha() or m==\" \") )\n",
    "for i in k.split():\n",
    "    if i.lower() not in stop_set:\n",
    "        k1.append(i)\n",
    "fd2=FreqDist(k1)\n",
    "s1=fd2.most_common(50)\n",
    "wb_words=[]\n",
    "for i in s1:\n",
    "    word,freq= i\n",
    "    wb_words.append(word)\n",
    "print (\"The topmost words in Web_text files:\\n\",s1)"
   ]
  },
  {
   "cell_type": "code",
   "execution_count": 73,
   "metadata": {
    "collapsed": false,
    "scrolled": true
   },
   "outputs": [
    {
     "name": "stdout",
     "output_type": "stream",
     "text": [
      "The top 5 words used in Shakespear books athat are not in use today\n"
     ]
    },
    {
     "data": {
      "text/plain": [
       "['haue', 'caesar', 'vs', 'brutus', 'vpon']"
      ]
     },
     "execution_count": 73,
     "metadata": {},
     "output_type": "execute_result"
    }
   ],
   "source": [
    "def comp(s, s1):\n",
    "    temp=[]\n",
    "    for val in s:\n",
    "        if val not in s1:\n",
    "            temp.append(val)\n",
    "    return temp\n",
    "tot_words=comp(sh_words,wb_words)\n",
    "output=[]\n",
    "for i in tot_words:\n",
    "    if i not in words.words():\n",
    "        output.append(i)\n",
    "print (\"The top 5 words used in Shakespear books athat are not in use today\")\n",
    "output[:5]"
   ]
  },
  {
   "cell_type": "code",
   "execution_count": null,
   "metadata": {
    "collapsed": false
   },
   "outputs": [],
   "source": []
  },
  {
   "cell_type": "code",
   "execution_count": null,
   "metadata": {
    "collapsed": true
   },
   "outputs": [],
   "source": []
  }
 ],
 "metadata": {
  "anaconda-cloud": {},
  "kernelspec": {
   "display_name": "Python [conda root]",
   "language": "python",
   "name": "conda-root-py"
  },
  "language_info": {
   "codemirror_mode": {
    "name": "ipython",
    "version": 3
   },
   "file_extension": ".py",
   "mimetype": "text/x-python",
   "name": "python",
   "nbconvert_exporter": "python",
   "pygments_lexer": "ipython3",
   "version": "3.5.2"
  }
 },
 "nbformat": 4,
 "nbformat_minor": 1
}
