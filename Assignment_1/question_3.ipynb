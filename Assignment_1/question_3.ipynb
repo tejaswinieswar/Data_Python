{
 "cells": [
  {
   "cell_type": "markdown",
   "metadata": {},
   "source": [
    "# Question 3"
   ]
  },
  {
   "cell_type": "code",
   "execution_count": 8,
   "metadata": {
    "collapsed": false
   },
   "outputs": [
    {
     "name": "stdout",
     "output_type": "stream",
     "text": [
      "The files in Webtext package: \n",
      " ['firefox.txt', 'grail.txt', 'overheard.txt', 'pirates.txt', 'singles.txt', 'wine.txt']\n"
     ]
    }
   ],
   "source": [
    "import nltk\n",
    "from nltk.corpus import webtext\n",
    "all_files = webtext.fileids()#To see what files are in gutenberg\n",
    "print (\"The files in Webtext package: \\n\",all_files)\n"
   ]
  },
  {
   "cell_type": "code",
   "execution_count": 9,
   "metadata": {
    "collapsed": false
   },
   "outputs": [],
   "source": [
    "w = nltk.corpus.webtext.raw('pirates.txt')\n",
    "#print (\"The content of pirates.txt file :\\n\",w)\n"
   ]
  },
  {
   "cell_type": "code",
   "execution_count": 11,
   "metadata": {
    "collapsed": false
   },
   "outputs": [
    {
     "name": "stdout",
     "output_type": "stream",
     "text": [
      "JACK SPARROW is the real leading man in the movie\n"
     ]
    }
   ],
   "source": [
    "a=w.count(\"JACK SPARROW:\")#check if the line is delivered by Jack Sparrow\n",
    "b=w.count(\"WILL TURNER:\")#check if the line is delivered by Will Turner\n",
    "if a>b:\n",
    "    print (\"JACK SPARROW is the real leading man in the movie\")\n",
    "else:\n",
    "    print (\"WILL TURNER is the real leading man in the movie\")"
   ]
  },
  {
   "cell_type": "code",
   "execution_count": null,
   "metadata": {
    "collapsed": true
   },
   "outputs": [],
   "source": []
  }
 ],
 "metadata": {
  "anaconda-cloud": {},
  "kernelspec": {
   "display_name": "Python [conda root]",
   "language": "python",
   "name": "conda-root-py"
  },
  "language_info": {
   "codemirror_mode": {
    "name": "ipython",
    "version": 3
   },
   "file_extension": ".py",
   "mimetype": "text/x-python",
   "name": "python",
   "nbconvert_exporter": "python",
   "pygments_lexer": "ipython3",
   "version": "3.5.2"
  }
 },
 "nbformat": 4,
 "nbformat_minor": 1
}
