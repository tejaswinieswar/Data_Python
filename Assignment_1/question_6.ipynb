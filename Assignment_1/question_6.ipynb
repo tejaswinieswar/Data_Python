{
 "cells": [
  {
   "cell_type": "markdown",
   "metadata": {},
   "source": [
    "# Question 6"
   ]
  },
  {
   "cell_type": "code",
   "execution_count": 5,
   "metadata": {
    "collapsed": false
   },
   "outputs": [
    {
     "name": "stdout",
     "output_type": "stream",
     "text": [
      "The name of the PResident and the unique number of words he has used in his speech:\n",
      "Polk 1282\n",
      "Hoover 1027\n",
      "McKinley 1600\n",
      "Lincoln 1205\n",
      "Grant 832\n",
      "Madison 875\n",
      "Reagan 1418\n",
      "Cleveland 1191\n",
      "Taylor 484\n",
      "Carter 498\n",
      "VanBuren 1266\n",
      "Kennedy 546\n",
      "Pierce 1122\n",
      "Jackson 820\n",
      "Johnson 545\n",
      "Obama 912\n",
      "Jefferson 1220\n",
      "Bush 1542\n",
      "Wilson 965\n",
      "Coolidge 1175\n",
      "Monroe 1707\n",
      "Harding 1137\n",
      "Roosevelt 1698\n",
      "Harrison 2602\n",
      "Garfield 993\n",
      "Truman 774\n",
      "Clinton 1088\n",
      "Eisenhower 1234\n",
      "Washington 627\n",
      "Taft 1405\n",
      "Buchanan 901\n",
      "Nixon 1065\n",
      "Hayes 816\n",
      "Adams 1452\n"
     ]
    }
   ],
   "source": [
    "import nltk\n",
    "from nltk.corpus import inaugural\n",
    "a = inaugural.fileids()#All files in the inaugural module\n",
    "d={}#Declaring a new dictionary\n",
    "def group_data(s,r):#Defining a function of key and value pair so that it can be called throught the program\n",
    "    if s not in d:#if s is not in d then add s to the dictionary d along with it's value r\n",
    "        d[s]=r\n",
    "    else:\n",
    "        v=d[s]#if s is already there in dictionary then add the new value of r to s in d\n",
    "        d[s]=v,r\n",
    "for i in a:#looping through the files of inaugural module\n",
    "    s=i[5:-4]#Splicing only to get the name of the presidents\n",
    "    r=nltk.corpus.inaugural.raw(i)#to get the raw content of each president's speech\n",
    "    group_data(s,r)\n",
    "print(\"The name of the PResident and the unique number of words he has used in his speech:\")\n",
    "for key, value in d.items():\n",
    "    n=str(value)#Since value is a tuple we are typcasting it to a string\n",
    "    o=n.lower()\n",
    "    v=''.join(m for m in o if (m.isalpha() or m==\" \") )#Validating if its an alphabet or a space\n",
    "    spl=v.split()#splitting words in a string using space as a delimiter\n",
    "    t=set(spl)\n",
    "    print (key,len(t))"
   ]
  },
  {
   "cell_type": "code",
   "execution_count": null,
   "metadata": {
    "collapsed": true
   },
   "outputs": [],
   "source": []
  }
 ],
 "metadata": {
  "anaconda-cloud": {},
  "kernelspec": {
   "display_name": "Python [conda root]",
   "language": "python",
   "name": "conda-root-py"
  },
  "language_info": {
   "codemirror_mode": {
    "name": "ipython",
    "version": 3
   },
   "file_extension": ".py",
   "mimetype": "text/x-python",
   "name": "python",
   "nbconvert_exporter": "python",
   "pygments_lexer": "ipython3",
   "version": "3.5.2"
  }
 },
 "nbformat": 4,
 "nbformat_minor": 1
}
