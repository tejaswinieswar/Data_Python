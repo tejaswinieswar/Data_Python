{
 "cells": [
  {
   "cell_type": "markdown",
   "metadata": {},
   "source": [
    "# Question 4"
   ]
  },
  {
   "cell_type": "code",
   "execution_count": 45,
   "metadata": {
    "collapsed": false
   },
   "outputs": [
    {
     "name": "stdout",
     "output_type": "stream",
     "text": [
      "The files in nps_chat package: \n",
      " ['10-19-20s_706posts.xml', '10-19-30s_705posts.xml', '10-19-40s_686posts.xml', '10-19-adults_706posts.xml', '10-24-40s_706posts.xml', '10-26-teens_706posts.xml', '11-06-adults_706posts.xml', '11-08-20s_705posts.xml', '11-08-40s_706posts.xml', '11-08-adults_705posts.xml', '11-08-teens_706posts.xml', '11-09-20s_706posts.xml', '11-09-40s_706posts.xml', '11-09-adults_706posts.xml', '11-09-teens_706posts.xml']\n"
     ]
    }
   ],
   "source": [
    "import nltk\n",
    "from nltk.corpus import nps_chat\n",
    "print (\"The files in nps_chat package: \\n\",nps_chat.fileids())"
   ]
  },
  {
   "cell_type": "code",
   "execution_count": 50,
   "metadata": {
    "collapsed": false
   },
   "outputs": [],
   "source": [
    "post=nps_chat.xml_posts()\n",
    "count_User121=0#initializing count for user 121\n",
    "L_20=[]#creating a list for ppl aged in 20s range\n",
    "L_30=[]#creating a list for ppl aged in 30s range\n",
    "L_40=[]#creating a list for ppl aged in 40s range\n",
    "aL=[]#creating a list for ppl aged in adult range\n",
    "tL=[]#creating a list for ppl aged in teen range\n",
    "#print(nltk.corpus.nps_chat.raw('10-19-20s_706posts.xml'))"
   ]
  },
  {
   "cell_type": "code",
   "execution_count": 47,
   "metadata": {
    "collapsed": false
   },
   "outputs": [],
   "source": [
    "for i in post:#Looping through all the posts\n",
    "    user=i.attrib['user']#Picking the data inside the user attribute \n",
    "    if user[9:]==\"User121\":\n",
    "        count_User121=count_User121+1\n",
    "    if(\"20s\" in user):\n",
    "        user=user[9:]#Picking only the user number\n",
    "        if user not in L_20:#to maiantain unique users in the list\n",
    "            L_20.append(user)\n",
    "    elif(\"30s\" in user):\n",
    "        user=user[9:]\n",
    "        if user not in L_30:#to maiantain unique users in the list\n",
    "            L_30.append(user)\n",
    "    elif(\"40s\" in user):\n",
    "        user=user[9:]\n",
    "        if user not in L_40:#to maiantain unique users in the list\n",
    "            L_40.append(user)      \n",
    "    elif(\"adults\" in user):\n",
    "        user=user[9:]\n",
    "        if user not in aL:#to maiantain unique users in the list\n",
    "            aL.append(user)\n",
    "    else:\n",
    "        user=user[9:]\n",
    "        if user not in tL:#to maiantain unique users in the list\n",
    "            tL.append(user)"
   ]
  },
  {
   "cell_type": "code",
   "execution_count": 48,
   "metadata": {
    "collapsed": false
   },
   "outputs": [
    {
     "name": "stdout",
     "output_type": "stream",
     "text": [
      "Number of posts by User121:  104\n",
      "Number of distinct users in age group 20 :  162\n",
      "Number of distinct users in age group 30 :  44\n",
      "Number of distinct users in age group 40 :  80\n",
      "Number of distinct users in adult age group :  138\n",
      "Number of distinct users in teen age group :  206\n"
     ]
    }
   ],
   "source": [
    "print(\"Number of posts by User121: \" ,count_User121)\n",
    "print (\"Number of distinct users in age group 20 : \",len(L_20))\n",
    "print (\"Number of distinct users in age group 30 : \",len(L_30))\n",
    "print (\"Number of distinct users in age group 40 : \",len(L_40))\n",
    "print (\"Number of distinct users in adult age group : \",len(aL))\n",
    "print (\"Number of distinct users in teen age group : \",len(tL))"
   ]
  },
  {
   "cell_type": "code",
   "execution_count": null,
   "metadata": {
    "collapsed": true
   },
   "outputs": [],
   "source": []
  }
 ],
 "metadata": {
  "anaconda-cloud": {},
  "kernelspec": {
   "display_name": "Python [conda root]",
   "language": "python",
   "name": "conda-root-py"
  },
  "language_info": {
   "codemirror_mode": {
    "name": "ipython",
    "version": 3
   },
   "file_extension": ".py",
   "mimetype": "text/x-python",
   "name": "python",
   "nbconvert_exporter": "python",
   "pygments_lexer": "ipython3",
   "version": "3.5.2"
  }
 },
 "nbformat": 4,
 "nbformat_minor": 1
}
