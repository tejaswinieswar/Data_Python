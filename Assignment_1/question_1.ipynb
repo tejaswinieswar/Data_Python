{
 "cells": [
  {
   "cell_type": "markdown",
   "metadata": {
    "collapsed": true
   },
   "source": [
    "# Question 1: \n",
    "- To see what files are in Gutenberg"
   ]
  },
  {
   "cell_type": "code",
   "execution_count": 18,
   "metadata": {
    "collapsed": false
   },
   "outputs": [
    {
     "name": "stdout",
     "output_type": "stream",
     "text": [
      "['austen-emma.txt', 'austen-persuasion.txt', 'austen-sense.txt', 'bible-kjv.txt', 'blake-poems.txt', 'bryant-stories.txt', 'burgess-busterbrown.txt', 'carroll-alice.txt', 'chesterton-ball.txt', 'chesterton-brown.txt', 'chesterton-thursday.txt', 'edgeworth-parents.txt', 'melville-moby_dick.txt', 'milton-paradise.txt', 'shakespeare-caesar.txt', 'shakespeare-hamlet.txt', 'shakespeare-macbeth.txt', 'whitman-leaves.txt']\n"
     ]
    }
   ],
   "source": [
    "from nltk.corpus import gutenberg\n",
    "all_files = gutenberg.fileids()#To see what files are in gutenberg\n",
    "print (all_files)"
   ]
  },
  {
   "cell_type": "code",
   "execution_count": 21,
   "metadata": {
    "collapsed": false
   },
   "outputs": [
    {
     "name": "stdout",
     "output_type": "stream",
     "text": [
      "Number of words in austen-persuasion.txt:  98171\n",
      "Number of Unique words in austen-persuasion.txt:  6132\n",
      "The top 10 most frequent words and their frequency\n",
      "Word/character:  , \tFrequency:   6750 \n",
      "\n",
      "Word/character:  the \tFrequency:   3120 \n",
      "\n",
      "Word/character:  to \tFrequency:   2775 \n",
      "\n",
      "Word/character:  . \tFrequency:   2741 \n",
      "\n",
      "Word/character:  and \tFrequency:   2739 \n",
      "\n",
      "Word/character:  of \tFrequency:   2564 \n",
      "\n",
      "Word/character:  a \tFrequency:   1529 \n",
      "\n",
      "Word/character:  in \tFrequency:   1346 \n",
      "\n",
      "Word/character:  was \tFrequency:   1330 \n",
      "\n",
      "Word/character:  ; \tFrequency:   1290 \n",
      "\n"
     ]
    }
   ],
   "source": [
    "import nltk\n",
    "from nltk.corpus import gutenberg\n",
    "no_of_words = nltk.corpus.gutenberg.words('austen-persuasion.txt') #To find the number of words in gutenberg\n",
    "print (\"Number of words in austen-persuasion.txt: \",len(no_of_words))\n",
    "x = set(no_of_words)#to get the redundant values from the text file\n",
    "print(\"Number of Unique words in austen-persuasion.txt: \",len(x))#length of the distinct number of words\n",
    "a={}\n",
    "for i in x:\n",
    "    c=no_of_words.count(i)\n",
    "    a[i]=c\n",
    "s_a=sorted(a, key=a.__getitem__,reverse=True)\n",
    "j=0\n",
    "print (\"The top 10 most frequent words and their frequency\")\n",
    "while(j<10):\n",
    "    print (\"Word/character: \",s_a[j], \"\\tFrequency:  \",a[s_a[j]],\"\\n\")\n",
    "    j=j+1"
   ]
  },
  {
   "cell_type": "code",
   "execution_count": null,
   "metadata": {
    "collapsed": false
   },
   "outputs": [],
   "source": []
  },
  {
   "cell_type": "code",
   "execution_count": null,
   "metadata": {
    "collapsed": false
   },
   "outputs": [],
   "source": []
  },
  {
   "cell_type": "code",
   "execution_count": null,
   "metadata": {
    "collapsed": false
   },
   "outputs": [],
   "source": []
  },
  {
   "cell_type": "code",
   "execution_count": null,
   "metadata": {
    "collapsed": true
   },
   "outputs": [],
   "source": [
    " "
   ]
  },
  {
   "cell_type": "code",
   "execution_count": null,
   "metadata": {
    "collapsed": true
   },
   "outputs": [],
   "source": []
  },
  {
   "cell_type": "code",
   "execution_count": null,
   "metadata": {
    "collapsed": true
   },
   "outputs": [],
   "source": []
  },
  {
   "cell_type": "code",
   "execution_count": null,
   "metadata": {
    "collapsed": true
   },
   "outputs": [],
   "source": []
  }
 ],
 "metadata": {
  "anaconda-cloud": {},
  "kernelspec": {
   "display_name": "Python [conda root]",
   "language": "python",
   "name": "conda-root-py"
  },
  "language_info": {
   "codemirror_mode": {
    "name": "ipython",
    "version": 3
   },
   "file_extension": ".py",
   "mimetype": "text/x-python",
   "name": "python",
   "nbconvert_exporter": "python",
   "pygments_lexer": "ipython3",
   "version": "3.5.2"
  }
 },
 "nbformat": 4,
 "nbformat_minor": 1
}
