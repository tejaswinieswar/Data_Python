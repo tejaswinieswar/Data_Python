{
 "cells": [
  {
   "cell_type": "markdown",
   "metadata": {},
   "source": [
    "# Question 4"
   ]
  },
  {
   "cell_type": "code",
   "execution_count": 20,
   "metadata": {
    "collapsed": true
   },
   "outputs": [],
   "source": [
    "import nltk"
   ]
  },
  {
   "cell_type": "code",
   "execution_count": 46,
   "metadata": {
    "collapsed": false
   },
   "outputs": [
    {
     "name": "stdout",
     "output_type": "stream",
     "text": [
      "{'51', '133', '91', '130', '144', '156', '113', '14', '161', '129', '149', '150', '143', '145', '80', '40', '126', '92', '77', '159', '124', '148', '128', '49', '168', '12', '0', '105', '2', '73', '158', '142', '107', '29', '1370', '137', '102', '166', '163', '19', '140', '95', '155', '116', '60', '153', '67', '131', '134', '109s', '135', '7', '53', '7s', '76', '152', '165', '109', '147', '72', '146', '141', '63', '23', '151', '132', '21', '136', '44', '123', '64', '83', '115s', '28', '20', '101', '122', '6', '111', '127', '139', '115', '157', '27', '65', '164', '117', '121', '160', '114', '138', '30', '125', '36', '55', '46', '162', '68', '59', '167', '5', '84', '154', '13', '108'}\n"
     ]
    }
   ],
   "source": [
    "import nltk, re\n",
    "from nltk.corpus import nps_chat\n",
    "nps_chat.fileids()\n",
    "a=nltk.corpus.nps_chat.raw('10-19-20s_706posts.xml')\n",
    "#print (a)\n",
    "c = re.findall('User(\\w+)',a)\n",
    "q = set(c)\n",
    "print (q)\n",
    "#print (c)"
   ]
  },
  {
   "cell_type": "code",
   "execution_count": 50,
   "metadata": {
    "collapsed": false
   },
   "outputs": [
    {
     "name": "stdout",
     "output_type": "stream",
     "text": [
      "20 10-19-20s_706posts.xml\n",
      "30 10-19-30s_705posts.xml\n",
      "40 10-19-40s_686posts.xml\n",
      "adults 10-19-adults_706posts.xml\n",
      "40 10-24-40s_706posts.xml\n",
      "teens 10-26-teens_706posts.xml\n",
      "adults 11-06-adults_706posts.xml\n",
      "20 11-08-20s_705posts.xml\n",
      "40 11-08-40s_706posts.xml\n",
      "adults 11-08-adults_705posts.xml\n",
      "teens 11-08-teens_706posts.xml\n",
      "20 11-09-20s_706posts.xml\n",
      "40 11-09-40s_706posts.xml\n",
      "adults 11-09-adults_706posts.xml\n",
      "teens 11-09-teens_706posts.xml\n",
      "[['51', '133', '91', '130', '144', '156', '113', '14', '161', '129', '149', '150', '143', '145', '80', '40', '126', '92', '77', '159', '124', '148', '128', '49', '168', '12', '0', '105', '2', '73', '158', '142', '107', '29', '1370', '137', '102', '166', '163', '19', '140', '95', '155', '116', '60', '153', '67', '131', '134', '109s', '135', '7', '53', '7s', '76', '152', '165', '109', '147', '72', '146', '141', '63', '23', '151', '132', '21', '136', '44', '123', '64', '83', '115s', '28', '20', '101', '122', '6', '111', '127', '139', '115', '157', '27', '65', '164', '117', '121', '160', '114', '138', '30', '125', '36', '55', '46', '162', '68', '59', '167', '5', '84', '154', '13', '108'], ['128', '122', '134', '135', '15', '90', '127', '131', '87', '139', '54', '133', '91', '130', '144', '152', '65', '69', '89', '10', '24', '109', '121', '129', '149', '88', '110', '114', '138', '74', '73', '125', '147', '146', '50', '196', '150', '143', '104', '35', '141', '18', '142', '31', '29', '145', '38', '151', '132', '21', '55', '42', '46', '136', '40', '137', '219', '66', '44', '126', '123', '102', '52', '70', '5', '20', '77', '84', '140', '32', '43', '112', '101', '124', '153', '79', '148', '58', '67', '106', '13'], ['133', '169', '130', '144', '156', '3', '113', '10', '989', '161', '14', '62', '129', '149', '9', '50', '74', '150', '170', '143', '56', '31', '145', '80', '40', '126', '41', '171', '175', '47', '77', '43', '1', '159', '112', '124', '148', '128', '178', '49', '87', '34', '100', '168', '57', '82', '12', '103', '0', '105', '176', '119', '158', '142', '42', '94', '33', '137', '166', '163', '19', '140', '155', '60', '153', '79', '67', '131', '134', '135', '90', '16', '96', '53', '76', '152', '69', '165', '109', '88', '147', '72', '174', '146', '141', '18', '63', '23', '151', '132', '38', '180', '136', '179', '44', '123', '8', '64', '173', '81', '83', '28', '20', '101', '122', '127', '11', '139', '17', '37', '157', '27', '65', '164', '89', '177', '120', '121', '160', '114', '138', '125', '55', '162', '68', '59', '167', '45', '172', '154', '13', '988']]\n"
     ]
    },
    {
     "data": {
      "text/plain": [
       "'\\n    b=nltk.corpus.nps_chat.raw(i)\\n    n=b.count(\"User121\")\\n    sum=sum+n\\nprint (sum)\\nfor i in a:\\n'"
      ]
     },
     "execution_count": 50,
     "metadata": {},
     "output_type": "execute_result"
    }
   ],
   "source": [
    "a=nps_chat.fileids()\n",
    "#a=nltk.corpus.nps_chat.raw('10-19-30s_705posts.xml')\n",
    "sum=0\n",
    "L_20=[]\n",
    "L_30=[]\n",
    "L_40=[]\n",
    "aL=[]\n",
    "tL=[]\n",
    "\n",
    "for i in a:\n",
    "    if(\"20s\" in i):\n",
    "        print (\"20\",i)\n",
    "        b=nltk.corpus.nps_chat.raw(i) \n",
    "        c = re.findall('User(\\w+)',b)\n",
    "        q = set(c)\n",
    "        L_20.append(list(q))\n",
    "        List_20= set(L_20)\n",
    "    if(\"30s\" in i):\n",
    "        print (\"30\",i)\n",
    "        b=nltk.corpus.nps_chat.raw(i) \n",
    "        c = re.findall('User(\\w+)',b)\n",
    "        q = set(c)\n",
    "        L_30.append(list(q))\n",
    "    if(\"40s\" in i):\n",
    "        print (\"40\",i)\n",
    "        b=nltk.corpus.nps_chat.raw(i) \n",
    "        c = re.findall('User(\\w+)',b)\n",
    "        q = set(c)\n",
    "        L_30.append(list(q))       \n",
    "    if(\"adults\" in i):\n",
    "        print (\"adults\",i)\n",
    "        b=nltk.corpus.nps_chat.raw(i) \n",
    "        c = re.findall('User(\\w+)',b)\n",
    "        q = set(c)\n",
    "        aL.append(list(q))\n",
    "    if(\"teens\" in i):\n",
    "        print (\"teens\",i)\n",
    "        b=nltk.corpus.nps_chat.raw(i) \n",
    "        c = re.findall('User(\\w+)',b)\n",
    "        q = set(c)\n",
    "        tL.append(list(q))\n",
    "print (L_20)\n",
    "\n",
    "\"\"\"\n",
    "    b=nltk.corpus.nps_chat.raw(i)\n",
    "    n=b.count(\"User121\")\n",
    "    sum=sum+n\n",
    "print (sum)\n",
    "for i in a:\n",
    "\"\"\"\n",
    "\n",
    "#print (b)"
   ]
  },
  {
   "cell_type": "code",
   "execution_count": null,
   "metadata": {
    "collapsed": true
   },
   "outputs": [],
   "source": []
  }
 ],
 "metadata": {
  "anaconda-cloud": {},
  "kernelspec": {
   "display_name": "Python [conda root]",
   "language": "python",
   "name": "conda-root-py"
  },
  "language_info": {
   "codemirror_mode": {
    "name": "ipython",
    "version": 3
   },
   "file_extension": ".py",
   "mimetype": "text/x-python",
   "name": "python",
   "nbconvert_exporter": "python",
   "pygments_lexer": "ipython3",
   "version": "3.5.2"
  }
 },
 "nbformat": 4,
 "nbformat_minor": 1
}
