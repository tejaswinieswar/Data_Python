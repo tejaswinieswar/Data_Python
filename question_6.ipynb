{
 "cells": [
  {
   "cell_type": "markdown",
   "metadata": {},
   "source": [
    "# Question 6"
   ]
  },
  {
   "cell_type": "code",
   "execution_count": 42,
   "metadata": {
    "collapsed": false
   },
   "outputs": [
    {
     "name": "stdout",
     "output_type": "stream",
     "text": [
      "key: Monroe\n",
      "1789\n",
      "key: Kennedy\n",
      "564\n",
      "key: Harding\n",
      "1174\n",
      "key: Harrison\n",
      "2701\n",
      "key: Polk\n",
      "1345\n",
      "key: Obama\n",
      "940\n",
      "key: Pierce\n",
      "1163\n",
      "key: Jefferson\n",
      "1261\n",
      "key: Hayes\n",
      "837\n",
      "key: Carter\n",
      "519\n",
      "key: Reagan\n",
      "1496\n",
      "key: McKinley\n",
      "1676\n",
      "key: Bush\n",
      "1621\n",
      "key: Garfield\n",
      "1034\n",
      "key: Taft\n",
      "1456\n",
      "key: Johnson\n",
      "572\n",
      "key: Buchanan\n",
      "943\n",
      "key: Madison\n",
      "896\n",
      "key: Truman\n",
      "795\n",
      "key: Coolidge\n",
      "1233\n",
      "key: Adams\n",
      "1501\n",
      "key: Clinton\n",
      "1156\n",
      "key: Roosevelt\n",
      "1771\n",
      "key: VanBuren\n",
      "1310\n",
      "key: Eisenhower\n",
      "1282\n",
      "key: Nixon\n",
      "1090\n",
      "key: Jackson\n",
      "845\n",
      "key: Lincoln\n",
      "1268\n",
      "key: Wilson\n",
      "999\n",
      "key: Washington\n",
      "649\n",
      "key: Cleveland\n",
      "1227\n",
      "key: Taylor\n",
      "493\n",
      "key: Grant\n",
      "861\n",
      "key: Hoover\n",
      "1094\n"
     ]
    }
   ],
   "source": [
    "import nltk\n",
    "from nltk.corpus import inaugural\n",
    "a = inaugural.fileids()#All files in the inaugural module\n",
    "d={}#Declaring a new dictionary\n",
    "def group_data(s,r):#Defining a function of key and value pair so that it can be called throught the program\n",
    "    if s not in d:#if s is not in d then add s to the dictionary d along with it's value r\n",
    "        d[s]=r\n",
    "    else:\n",
    "        v=d[s]#if s is already there in dictionary then add the new value of r to s in d\n",
    "        d[s]=v,r\n",
    "        #print (d[s])    \n",
    "for i in a:#for a word in a\n",
    "    s=i[5:-4]\n",
    "    #print (s)\n",
    "    r=nltk.corpus.inaugural.raw(i)\n",
    "    #print (type(r))\n",
    "    group_data(s,r)\n",
    "#print (d[\"Washington\"])\n",
    "for key, value in d.items():\n",
    "    print (\"key:\",key)\n",
    "    #print (\"value:\",value)\n",
    "    n=str(value)\n",
    "    v=''.join(m for m in n if (m.isalnum() or m==\" \") )\n",
    "    spl=v.split()\n",
    "    t=set(spl)\n",
    "    print (len(t))"
   ]
  },
  {
   "cell_type": "code",
   "execution_count": null,
   "metadata": {
    "collapsed": true
   },
   "outputs": [],
   "source": []
  }
 ],
 "metadata": {
  "anaconda-cloud": {},
  "kernelspec": {
   "display_name": "Python [conda root]",
   "language": "python",
   "name": "conda-root-py"
  },
  "language_info": {
   "codemirror_mode": {
    "name": "ipython",
    "version": 3
   },
   "file_extension": ".py",
   "mimetype": "text/x-python",
   "name": "python",
   "nbconvert_exporter": "python",
   "pygments_lexer": "ipython3",
   "version": "3.5.2"
  }
 },
 "nbformat": 4,
 "nbformat_minor": 1
}
